{
 "cells": [
  {
   "cell_type": "markdown",
   "metadata": {},
   "source": [
    "### Description: This is a sentimental analysis program that parses the tweets fetched from twitter using python"
   ]
  },
  {
   "cell_type": "code",
   "execution_count": null,
   "metadata": {},
   "outputs": [],
   "source": [
    "#import the libraries\n",
    "import tweepy\n",
    "from textblob import TextBlob\n",
    "from wordcloud import WordCloud\n",
    "import pandas as pd\n",
    "import numpy as np\n",
    "import re\n",
    "import matplotlib.pyplot as plt\n",
    "plt.style.use(\"fivethirtyeight\")"
   ]
  },
  {
   "cell_type": "code",
   "execution_count": null,
   "metadata": {},
   "outputs": [],
   "source": [
    "#Load the api_keys\n",
    "keys = pd.read_csv(\"keys.csv\")"
   ]
  },
  {
   "cell_type": "code",
   "execution_count": null,
   "metadata": {},
   "outputs": [],
   "source": [
    "#Assign keys\n",
    "consumerKey = keys.iloc[0, 0]\n",
    "consumerSecret = keys.iloc[0, 1]\n",
    "accessToken = keys.iloc[0, 2]\n",
    "accessTokenSecret = keys.iloc[0, 3]\n",
    "print(consumerKey)\n",
    "print(consumerSecret)"
   ]
  },
  {
   "cell_type": "code",
   "execution_count": null,
   "metadata": {},
   "outputs": [],
   "source": [
    "#Create the authentication object\n",
    "authenticate = tweepy.OAuthHandler(consumerKey, consumerSecret)\n",
    "\n",
    "#access token and access token secret\n",
    "authenticate.set_access_token(accessToken, accessTokenSecret)\n",
    "\n",
    "#create the api object while passing in the auth information\n",
    "api = tweepy.API(authenticate, wait_on_rate_limit = True)"
   ]
  },
  {
   "cell_type": "code",
   "execution_count": null,
   "metadata": {},
   "outputs": [],
   "source": [
    "#Extract 100 tweets from a twitter user\n",
    "posts = api.user_timeline(screen_name = \"BillGates\", count = 100, lang = \"en\", tweet_mode = \"extended\")\n",
    "\n",
    "#Print the last 5 tweets from the account\n",
    "print(\"Show the 5 recent tweets: \\n\")\n",
    "\n",
    "i = 1\n",
    "for tweet in posts[0:5]:\n",
    "    print(str(i) + \")\" + tweet.full_text + \"\\n\")\n",
    "    i = i + 1"
   ]
  },
  {
   "cell_type": "code",
   "execution_count": null,
   "metadata": {},
   "outputs": [],
   "source": [
    "#Create a dataframe with a column called Tweets\n",
    "df = pd.DataFrame([tweet.full_text for tweet in posts], columns = [\"Tweets\"])\n",
    "df.head()"
   ]
  },
  {
   "cell_type": "code",
   "execution_count": null,
   "metadata": {},
   "outputs": [],
   "source": [
    "#clean the text\n",
    "\n",
    "#Create a function to clean the tweets\n",
    "def cleantxt(text):\n",
    "    text = re.sub(r\"@[A-Za-z0-9]+\", \"\", text) #Removes @ mentions\n",
    "    text = re.sub(r\"#\", \"\", text) #Removing the # symbol\n",
    "    text = re.sub(r\"RT[\\s]+\", \"\", text) #Removing RT\n",
    "    text = re.sub(r\"https?:\\/\\/\\S+\", \"\", text) #Removing hyperlinks\n",
    "    return text\n",
    "\n",
    "df[\"Tweets\"] = df[\"Tweets\"].apply(cleantxt)\n",
    "    \n",
    "#Show the cleaned text\n",
    "df"
   ]
  },
  {
   "cell_type": "code",
   "execution_count": null,
   "metadata": {},
   "outputs": [],
   "source": [
    "#Create a fuction to get the subjectivity\n",
    "def getSubjectivity(text):\n",
    "    return TextBlob(text).sentiment.subjectivity\n",
    "\n",
    "#Create a fuction to get the subjectivity\n",
    "def getPolarity(text):\n",
    "    return TextBlob(text).sentiment.polarity\n",
    "\n",
    "#Creating columns for subjectivity and polarity\n",
    "df[\"Subjectivity\"] = df[\"Tweets\"].apply(getSubjectivity)\n",
    "df[\"Polarity\"] = df[\"Tweets\"].apply(getPolarity)\n",
    "\n",
    "#Show new columns \n",
    "df"
   ]
  },
  {
   "cell_type": "code",
   "execution_count": null,
   "metadata": {},
   "outputs": [],
   "source": [
    "#Plot the wordcloud\n",
    "allwords = \"\".join([twts for twts in df[\"Tweets\"]])\n",
    "wordCloud = WordCloud(width = 500, height = 300, random_state = 21, max_font_size = 119).generate(allwords)\n",
    "\n",
    "plt.imshow(wordCloud, interpolation = \"bilinear\")\n",
    "plt.axis(\"off\")\n",
    "plt.show()"
   ]
  },
  {
   "cell_type": "code",
   "execution_count": null,
   "metadata": {},
   "outputs": [],
   "source": [
    "#Create a function to compute the negative, neutral and positive analysis\n",
    "def getAnalysis(score):\n",
    "    if score < 0:\n",
    "        return \"Negative\"\n",
    "    if score > 0:\n",
    "        return \"Positive\"\n",
    "    if score == 0:\n",
    "        return \"Neutral\"\n",
    "\n",
    "#Making column for analysis\n",
    "df[\"Analysis\"] = df[\"Polarity\"].apply(getAnalysis)\n",
    "\n",
    "#printing df with new analysis column\n",
    "df"
   ]
  },
  {
   "cell_type": "code",
   "execution_count": null,
   "metadata": {},
   "outputs": [],
   "source": [
    "#Printing all the positive tweets\n",
    "j = 1\n",
    "sortedDF = df.sort_values(by = [\"Polarity\"])\n",
    "for i in range(0, sortedDF.shape[0]):\n",
    "    if sortedDF[\"Analysis\"][i] == \"Positive\":\n",
    "        print(str(j) + \")\" + sortedDF[\"Tweets\"][i])\n",
    "        print()\n",
    "        j = j + 1"
   ]
  },
  {
   "cell_type": "code",
   "execution_count": null,
   "metadata": {},
   "outputs": [],
   "source": [
    "#Print all the negative tweets\n",
    "#Printing all the positive tweets\n",
    "j = 1\n",
    "sortedDF = df.sort_values(by = [\"Polarity\"])\n",
    "for i in range(0, sortedDF.shape[0]):\n",
    "    if sortedDF[\"Analysis\"][i] == \"Negative\":\n",
    "        print(str(j) + \")\" + sortedDF[\"Tweets\"][i])\n",
    "        print()\n",
    "        j = j + 1"
   ]
  },
  {
   "cell_type": "code",
   "execution_count": null,
   "metadata": {},
   "outputs": [],
   "source": [
    "#Plot the polarity and subjectivity\n",
    "plt.figure(figsize = (8, 6))\n",
    "for i in range(0, df.shape[0]):\n",
    "    plt.scatter(df[\"Polarity\"][i], df[\"Subjectivity\"][i], color = \"Blue\")\n",
    "    \n",
    "plt.title(\"Sentimental Analysis of Tweets\")\n",
    "plt.xlabel(\"Polarity\")\n",
    "plt.ylabel(\"Subjectivity\")\n",
    "plt.show()"
   ]
  },
  {
   "cell_type": "code",
   "execution_count": null,
   "metadata": {},
   "outputs": [],
   "source": [
    "#Get the percentage of positive tweets\n",
    "ptweets = df[df.Analysis == \"Positive\"]\n",
    "ptweets = ptweets[\"Tweets\"]\n",
    "\n",
    "round(ptweets.shape[0] / df.shape[0] * 100, 1)"
   ]
  },
  {
   "cell_type": "code",
   "execution_count": null,
   "metadata": {},
   "outputs": [],
   "source": [
    "#Get the percentage of negative tweets\n",
    "ntweets = df[df.Analysis == \"Negative\"]\n",
    "ntweets = ntweets[\"Tweets\"]\n",
    "\n",
    "round(ntweets.shape[0] / df.shape[0] * 100, 1)"
   ]
  },
  {
   "cell_type": "code",
   "execution_count": null,
   "metadata": {},
   "outputs": [],
   "source": [
    "#Show the value counts\n",
    "df[\"Analysis\"].value_counts()\n",
    "\n",
    "plt.title(\"Sentimental Analysis\")\n",
    "plt.xlabel(\"Sentiment\")\n",
    "plt.ylabel(\"Counts\")\n",
    "df[\"Analysis\"].value_counts().plot(kind = \"bar\")\n",
    "plt.show()"
   ]
  },
  {
   "cell_type": "code",
   "execution_count": null,
   "metadata": {},
   "outputs": [],
   "source": []
  }
 ],
 "metadata": {
  "kernelspec": {
   "display_name": "Python 3",
   "language": "python",
   "name": "python3"
  },
  "language_info": {
   "codemirror_mode": {
    "name": "ipython",
    "version": 3
   },
   "file_extension": ".py",
   "mimetype": "text/x-python",
   "name": "python",
   "nbconvert_exporter": "python",
   "pygments_lexer": "ipython3",
   "version": "3.8.2"
  }
 },
 "nbformat": 4,
 "nbformat_minor": 4
}
